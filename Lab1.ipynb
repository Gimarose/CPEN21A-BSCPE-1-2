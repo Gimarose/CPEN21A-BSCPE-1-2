{
  "nbformat": 4,
  "nbformat_minor": 0,
  "metadata": {
    "colab": {
      "name": "Lab1.ipynb",
      "provenance": [],
      "authorship_tag": "ABX9TyPniWZmVCZIT8WfwukLkIV6",
      "include_colab_link": true
    },
    "kernelspec": {
      "name": "python3",
      "display_name": "Python 3"
    },
    "language_info": {
      "name": "python"
    }
  },
  "cells": [
    {
      "cell_type": "markdown",
      "metadata": {
        "id": "view-in-github",
        "colab_type": "text"
      },
      "source": [
        "<a href=\"https://colab.research.google.com/github/Gimarose/CPEN21A-BSCPE-1-2/blob/main/Lab1.ipynb\" target=\"_parent\"><img src=\"https://colab.research.google.com/assets/colab-badge.svg\" alt=\"Open In Colab\"/></a>"
      ]
    },
    {
      "cell_type": "markdown",
      "metadata": {
        "id": "j6Uooy9f18Ku"
      },
      "source": [
        "##***Welcome to Python Programming***"
      ]
    },
    {
      "cell_type": "markdown",
      "metadata": {
        "id": "8rZW0wvX7SW2"
      },
      "source": [
        "###***Laboratory 1***"
      ]
    },
    {
      "cell_type": "code",
      "metadata": {
        "colab": {
          "base_uri": "https://localhost:8080/"
        },
        "id": "6cNb_Eyp3QE8",
        "outputId": "e987e7c6-32fe-43c8-fa7d-decad34a1eb9"
      },
      "source": [
        "a= \"Gimarose A. Luzande\"\n",
        "print(\"Name:\" \" \" + a)"
      ],
      "execution_count": 32,
      "outputs": [
        {
          "output_type": "stream",
          "name": "stdout",
          "text": [
            "Name: Gimarose A. Luzande\n"
          ]
        }
      ]
    },
    {
      "cell_type": "code",
      "metadata": {
        "colab": {
          "base_uri": "https://localhost:8080/"
        },
        "id": "e69Y1kJT5sav",
        "outputId": "b0442476-d7a9-4afc-d8d4-fd1bb8f28582"
      },
      "source": [
        "b = \"457 P. Mindo St., Cuyab, San Pedro City, Laguna\"\n",
        "print(\"Address:\" \" \" +b)"
      ],
      "execution_count": 27,
      "outputs": [
        {
          "output_type": "stream",
          "name": "stdout",
          "text": [
            "Address: 457 P. Mindo St., Cuyab, San Pedro City, Laguna\n"
          ]
        }
      ]
    },
    {
      "cell_type": "code",
      "metadata": {
        "colab": {
          "base_uri": "https://localhost:8080/"
        },
        "id": "nAvyTllw1zC7",
        "outputId": "987b7bb7-97a4-422b-b4bd-8a0844bf1ff7"
      },
      "source": [
        "x= 10\n",
        "y= 8\n",
        "print(\"Age:\" \" \") \n",
        "print(x+y)"
      ],
      "execution_count": 31,
      "outputs": [
        {
          "output_type": "stream",
          "name": "stdout",
          "text": [
            "Age: \n",
            "18\n"
          ]
        }
      ]
    }
  ]
}