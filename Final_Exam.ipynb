{
  "nbformat": 4,
  "nbformat_minor": 0,
  "metadata": {
    "colab": {
      "name": "Final Exam.ipynb",
      "provenance": [],
      "collapsed_sections": [],
      "authorship_tag": "ABX9TyPoO24EFejoqDghC0M/7JR2",
      "include_colab_link": true
    },
    "kernelspec": {
      "name": "python3",
      "display_name": "Python 3"
    },
    "language_info": {
      "name": "python"
    }
  },
  "cells": [
    {
      "cell_type": "markdown",
      "metadata": {
        "id": "view-in-github",
        "colab_type": "text"
      },
      "source": [
        "<a href=\"https://colab.research.google.com/github/Gimarose/CPEN21A-BSCPE-1-2/blob/main/Final_Exam.ipynb\" target=\"_parent\"><img src=\"https://colab.research.google.com/assets/colab-badge.svg\" alt=\"Open In Colab\"/></a>"
      ]
    },
    {
      "cell_type": "markdown",
      "source": [
        "###**FINAL** **EXAM**"
      ],
      "metadata": {
        "id": "KTt4ElqqBf7P"
      }
    },
    {
      "cell_type": "markdown",
      "source": [
        "Problem Statement 1"
      ],
      "metadata": {
        "id": "UjPnalr_D0Ri"
      }
    },
    {
      "cell_type": "code",
      "source": [
        "num_list=(4,3,2,1,-1,-2,-3,-4,-5,-6)\n",
        "x=sum(num_list)\n",
        "print(x)"
      ],
      "metadata": {
        "colab": {
          "base_uri": "https://localhost:8080/"
        },
        "id": "yV5jfGf6QSWY",
        "outputId": "a2a348c7-8ef9-4f42-eee2-c7cc4431b487"
      },
      "execution_count": null,
      "outputs": [
        {
          "output_type": "stream",
          "name": "stdout",
          "text": [
            "-11\n"
          ]
        }
      ]
    },
    {
      "cell_type": "markdown",
      "source": [
        "Problem Statement 2"
      ],
      "metadata": {
        "id": "HIXS5BzGD5H6"
      }
    },
    {
      "cell_type": "code",
      "source": [
        "x=1\n",
        "empty_list=()\n",
        "while x <=5:\n",
        "  num = int(input(\"Enter a number:\"))\n",
        "  if x == 1:\n",
        "    first_number = num\n",
        "  if x == 5:\n",
        "    last_number = num\n",
        "  x +=1\n",
        "sum = (first_number + last_number)\n",
        "print(\"\\n\",sum)"
      ],
      "metadata": {
        "colab": {
          "base_uri": "https://localhost:8080/"
        },
        "id": "2fGfkqbMYgqZ",
        "outputId": "90c1c4f0-784a-4b53-95c0-5ca30d5f305c"
      },
      "execution_count": 1,
      "outputs": [
        {
          "output_type": "stream",
          "name": "stdout",
          "text": [
            "Enter a number:12\n",
            "Enter a number:11\n",
            "Enter a number:10\n",
            "Enter a number:9\n",
            "Enter a number:8\n",
            "\n",
            " 20\n"
          ]
        }
      ]
    },
    {
      "cell_type": "markdown",
      "source": [
        "Problem Statement 3"
      ],
      "metadata": {
        "id": "iYlgEa2Plw14"
      }
    },
    {
      "cell_type": "code",
      "source": [
        "grade= float(input(\"Enter your Grade:\"))\n",
        "if grade >= 90:\n",
        "  print(\"A\")\n",
        "else:\n",
        "  if grade >=80 and num<=89:\n",
        "    print(\"B\")\n",
        "  else:\n",
        "    if grade >=70 and num<=79:\n",
        "      print(\"C\")\n",
        "    else:\n",
        "      if grade >=60 and num<=69:\n",
        "        print(\"D\")\n",
        "      else:\n",
        "        print(\"F\")\n"
      ],
      "metadata": {
        "colab": {
          "base_uri": "https://localhost:8080/"
        },
        "id": "UCAhznM_Zr3i",
        "outputId": "8143f3fd-ead8-4cdd-acde-2373771afdf9"
      },
      "execution_count": 6,
      "outputs": [
        {
          "output_type": "stream",
          "name": "stdout",
          "text": [
            "Enter your Grade:91.6\n",
            "A\n"
          ]
        }
      ]
    }
  ]
}