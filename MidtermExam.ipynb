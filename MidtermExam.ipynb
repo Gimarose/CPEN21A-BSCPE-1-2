{
  "nbformat": 4,
  "nbformat_minor": 0,
  "metadata": {
    "colab": {
      "name": "MidtermExam.ipynb",
      "provenance": [],
      "authorship_tag": "ABX9TyOD7S94QrAKmfWHbBr1CgRg",
      "include_colab_link": true
    },
    "kernelspec": {
      "name": "python3",
      "display_name": "Python 3"
    },
    "language_info": {
      "name": "python"
    }
  },
  "cells": [
    {
      "cell_type": "markdown",
      "metadata": {
        "id": "view-in-github",
        "colab_type": "text"
      },
      "source": [
        "<a href=\"https://colab.research.google.com/github/Gimarose/CPEN21A-BSCPE-1-2/blob/main/MidtermExam.ipynb\" target=\"_parent\"><img src=\"https://colab.research.google.com/assets/colab-badge.svg\" alt=\"Open In Colab\"/></a>"
      ]
    },
    {
      "cell_type": "markdown",
      "metadata": {
        "id": "pHxpcwxJBvLC"
      },
      "source": [
        "#**MIDTERM** **EXAM** \n"
      ]
    },
    {
      "cell_type": "markdown",
      "metadata": {
        "id": "K1YWuuJ-CCCR"
      },
      "source": [
        "##Problem Statement 1\n"
      ]
    },
    {
      "cell_type": "code",
      "metadata": {
        "colab": {
          "base_uri": "https://localhost:8080/"
        },
        "id": "I9V2sbi1CGsd",
        "outputId": "6d4a3d40-f393-492c-efe6-46ff0b9896b4"
      },
      "source": [
        "a, b, c = \"Gimarose\", \"Almeida\", \"Luzande\"\n",
        "print(\"Full name:\" \" \" + a, b, c)"
      ],
      "execution_count": 3,
      "outputs": [
        {
          "output_type": "stream",
          "name": "stdout",
          "text": [
            "Full name: Gimarose Almeida Luzande\n"
          ]
        }
      ]
    },
    {
      "cell_type": "code",
      "metadata": {
        "colab": {
          "base_uri": "https://localhost:8080/"
        },
        "id": "RHJW-bP-CnXu",
        "outputId": "0f8d7c38-b2f9-4dba-d172-d203ed5d48d9"
      },
      "source": [
        "z= \"202107605\"\n",
        "print(\"Student Number:\" \" \" + z)"
      ],
      "execution_count": 4,
      "outputs": [
        {
          "output_type": "stream",
          "name": "stdout",
          "text": [
            "Student Number: 202107605\n"
          ]
        }
      ]
    },
    {
      "cell_type": "code",
      "metadata": {
        "colab": {
          "base_uri": "https://localhost:8080/"
        },
        "id": "kPtDwQawDCuY",
        "outputId": "1130a451-f22c-4eba-fcb7-3073ba809602"
      },
      "source": [
        "x=10\n",
        "y=9\n",
        "o= \"Age:\"\n",
        "z=x+y\n",
        "print(o)\n",
        "print(z)"
      ],
      "execution_count": 46,
      "outputs": [
        {
          "output_type": "stream",
          "name": "stdout",
          "text": [
            "Age:\n",
            "19\n"
          ]
        }
      ]
    },
    {
      "cell_type": "code",
      "metadata": {
        "colab": {
          "base_uri": "https://localhost:8080/"
        },
        "id": "oZiz_9BnDl1J",
        "outputId": "05fc6f24-9bd0-451c-afa1-4a65e16fb431"
      },
      "source": [
        "x, y, z = \"November\", \"12,\",\"2002\"\n",
        "print(\"Birthday:\" \" \"+ x,y,z)"
      ],
      "execution_count": 10,
      "outputs": [
        {
          "output_type": "stream",
          "name": "stdout",
          "text": [
            "Birthday: November 12, 2002\n"
          ]
        }
      ]
    },
    {
      "cell_type": "code",
      "metadata": {
        "colab": {
          "base_uri": "https://localhost:8080/"
        },
        "id": "ktHegzqqEAyQ",
        "outputId": "e58427c2-b70c-42b0-fb65-880c25a04c3e"
      },
      "source": [
        "g=\"Address:\"\n",
        "h= \"457 P. Mindo St. Cuyab, San Pedro City of Laguna\"\n",
        "i=g+h\n",
        "print(i)"
      ],
      "execution_count": 11,
      "outputs": [
        {
          "output_type": "stream",
          "name": "stdout",
          "text": [
            "Address:457 P. Mindo St. Cuyab, San Pedro City of Laguna\n"
          ]
        }
      ]
    },
    {
      "cell_type": "code",
      "metadata": {
        "colab": {
          "base_uri": "https://localhost:8080/"
        },
        "id": "4plkvMe7EhLC",
        "outputId": "96389a46-4fe2-4e64-c315-64b49647bd85"
      },
      "source": [
        "d, f, g = \"Course:\", \"Bachelor of Science in\", \"Computer Engineering\"\n",
        "print(d,f,g)"
      ],
      "execution_count": 12,
      "outputs": [
        {
          "output_type": "stream",
          "name": "stdout",
          "text": [
            "Course: Bachelor of Science in Computer Engineering\n"
          ]
        }
      ]
    },
    {
      "cell_type": "code",
      "metadata": {
        "colab": {
          "base_uri": "https://localhost:8080/"
        },
        "id": "_LgXqm2UFAWt",
        "outputId": "dba78465-849f-4c6b-a929-46b21827aa15"
      },
      "source": [
        "a = \"Last Sem GWA:\"\n",
        "b= \"95\" #2nd Sem Grade 12 grade\n",
        "c= a+b\n",
        "print(c)\n"
      ],
      "execution_count": 15,
      "outputs": [
        {
          "output_type": "stream",
          "name": "stdout",
          "text": [
            "Last Sem GWA:95\n"
          ]
        }
      ]
    },
    {
      "cell_type": "markdown",
      "metadata": {
        "id": "pSybtpeSFgW5"
      },
      "source": [
        "##Problem Statement 2\n"
      ]
    },
    {
      "cell_type": "code",
      "metadata": {
        "colab": {
          "base_uri": "https://localhost:8080/"
        },
        "id": "XtVbFh7DFmW2",
        "outputId": "3d5387c9-53a8-4a63-d9f3-2dd97ab9b7ee"
      },
      "source": [
        "(2<4) and (4<6)"
      ],
      "execution_count": 16,
      "outputs": [
        {
          "output_type": "execute_result",
          "data": {
            "text/plain": [
              "True"
            ]
          },
          "metadata": {},
          "execution_count": 16
        }
      ]
    },
    {
      "cell_type": "code",
      "metadata": {
        "colab": {
          "base_uri": "https://localhost:8080/"
        },
        "id": "fe20B84gGDJr",
        "outputId": "8780f956-7289-4979-ade8-2a62a80da8cc"
      },
      "source": [
        "(2<4) or (4==6)"
      ],
      "execution_count": 17,
      "outputs": [
        {
          "output_type": "execute_result",
          "data": {
            "text/plain": [
              "True"
            ]
          },
          "metadata": {},
          "execution_count": 17
        }
      ]
    },
    {
      "cell_type": "code",
      "metadata": {
        "colab": {
          "base_uri": "https://localhost:8080/"
        },
        "id": "QrOMQrnrGMRE",
        "outputId": "eac89a8b-934f-493b-f541-cf101b4e6b15"
      },
      "source": [
        "not(2<4) or (4==6)"
      ],
      "execution_count": 18,
      "outputs": [
        {
          "output_type": "execute_result",
          "data": {
            "text/plain": [
              "False"
            ]
          },
          "metadata": {},
          "execution_count": 18
        }
      ]
    },
    {
      "cell_type": "code",
      "metadata": {
        "colab": {
          "base_uri": "https://localhost:8080/"
        },
        "id": "yhsiElfJGawA",
        "outputId": "2fac5cc9-e4a9-4bbc-b735-79185ebc40ff"
      },
      "source": [
        "not(4<6)"
      ],
      "execution_count": 19,
      "outputs": [
        {
          "output_type": "execute_result",
          "data": {
            "text/plain": [
              "False"
            ]
          },
          "metadata": {},
          "execution_count": 19
        }
      ]
    },
    {
      "cell_type": "code",
      "metadata": {
        "colab": {
          "base_uri": "https://localhost:8080/"
        },
        "id": "FoiK-jo-GlVs",
        "outputId": "2ab5f89a-ab1c-4d73-e74d-3639e9c5f7f9"
      },
      "source": [
        "(\"Y\"==\"Y\") or (\"Y\"==\"y\")"
      ],
      "execution_count": 20,
      "outputs": [
        {
          "output_type": "execute_result",
          "data": {
            "text/plain": [
              "True"
            ]
          },
          "metadata": {},
          "execution_count": 20
        }
      ]
    },
    {
      "cell_type": "code",
      "metadata": {
        "colab": {
          "base_uri": "https://localhost:8080/"
        },
        "id": "iqNwVl31G4I9",
        "outputId": "c6839081-d090-4da1-8523-c9b10eb62880"
      },
      "source": [
        "(\"Y\"==\"Y\") and (\"Y\"==\"y\")"
      ],
      "execution_count": 21,
      "outputs": [
        {
          "output_type": "execute_result",
          "data": {
            "text/plain": [
              "False"
            ]
          },
          "metadata": {},
          "execution_count": 21
        }
      ]
    },
    {
      "cell_type": "code",
      "metadata": {
        "colab": {
          "base_uri": "https://localhost:8080/"
        },
        "id": "tpoytV7gBm1N",
        "outputId": "5b667177-b024-4b5f-dd6f-292a308f6b92"
      },
      "source": [
        "not(\"Y\"==\"y\")"
      ],
      "execution_count": 22,
      "outputs": [
        {
          "output_type": "execute_result",
          "data": {
            "text/plain": [
              "True"
            ]
          },
          "metadata": {},
          "execution_count": 22
        }
      ]
    },
    {
      "cell_type": "code",
      "metadata": {
        "colab": {
          "base_uri": "https://localhost:8080/"
        },
        "id": "peVZMPOuHdmF",
        "outputId": "e39349bf-ab71-4a5e-b03d-a6458ceba542"
      },
      "source": [
        "((2<4)and(4==5+1)) or (\"Y\"==\"No\")"
      ],
      "execution_count": 30,
      "outputs": [
        {
          "output_type": "execute_result",
          "data": {
            "text/plain": [
              "False"
            ]
          },
          "metadata": {},
          "execution_count": 30
        }
      ]
    },
    {
      "cell_type": "code",
      "metadata": {
        "colab": {
          "base_uri": "https://localhost:8080/"
        },
        "id": "iSbOY9dHIfMa",
        "outputId": "97f9b5c9-452e-441e-f3d3-26567c5b8d80"
      },
      "source": [
        "((4==2)and(4==7)) or (\"Y\"==\"Y\")"
      ],
      "execution_count": 27,
      "outputs": [
        {
          "output_type": "execute_result",
          "data": {
            "text/plain": [
              "True"
            ]
          },
          "metadata": {},
          "execution_count": 27
        }
      ]
    },
    {
      "cell_type": "code",
      "metadata": {
        "colab": {
          "base_uri": "https://localhost:8080/"
        },
        "id": "JgaQsVhvJBY-",
        "outputId": "8afc18fe-218b-48a6-d21c-047bd9471c32"
      },
      "source": [
        "(4==2)and((4==7) or (\"Y\"==\"Y\"))"
      ],
      "execution_count": 47,
      "outputs": [
        {
          "output_type": "execute_result",
          "data": {
            "text/plain": [
              "False"
            ]
          },
          "metadata": {},
          "execution_count": 47
        }
      ]
    },
    {
      "cell_type": "markdown",
      "metadata": {
        "id": "NYu2JZn8Jk9M"
      },
      "source": [
        "##Problem Statement 3"
      ]
    },
    {
      "cell_type": "code",
      "metadata": {
        "colab": {
          "base_uri": "https://localhost:8080/"
        },
        "id": "vaIy4Bu4Jouw",
        "outputId": "688fda35-fb92-4a1a-eae4-6739f7ac868d"
      },
      "source": [
        "x=2\n",
        "x/=-3\n",
        "print(x)"
      ],
      "execution_count": 35,
      "outputs": [
        {
          "output_type": "stream",
          "name": "stdout",
          "text": [
            "-0.6666666666666666\n"
          ]
        }
      ]
    },
    {
      "cell_type": "code",
      "metadata": {
        "colab": {
          "base_uri": "https://localhost:8080/"
        },
        "id": "nL5XZ74OKzGj",
        "outputId": "21afbd6a-b5bc-415e-bee9-38c5743dc38a"
      },
      "source": [
        "w=7\n",
        "y=-3\n",
        "x=2\n",
        "print(w/y/x)"
      ],
      "execution_count": 36,
      "outputs": [
        {
          "output_type": "stream",
          "name": "stdout",
          "text": [
            "-1.1666666666666667\n"
          ]
        }
      ]
    },
    {
      "cell_type": "code",
      "metadata": {
        "colab": {
          "base_uri": "https://localhost:8080/"
        },
        "id": "KeHeRTYdK_Xf",
        "outputId": "d9120678-ea60-4c9e-b372-094352b157b1"
      },
      "source": [
        "z=-10\n",
        "print(z/y%x)"
      ],
      "execution_count": 37,
      "outputs": [
        {
          "output_type": "stream",
          "name": "stdout",
          "text": [
            "1.3333333333333335\n"
          ]
        }
      ]
    },
    {
      "cell_type": "code",
      "metadata": {
        "colab": {
          "base_uri": "https://localhost:8080/"
        },
        "id": "uRI2LycJLXQN",
        "outputId": "5ca98f98-3720-463a-d94a-61c2264150ff"
      },
      "source": [
        "print(x%-y*w)"
      ],
      "execution_count": 38,
      "outputs": [
        {
          "output_type": "stream",
          "name": "stdout",
          "text": [
            "14\n"
          ]
        }
      ]
    },
    {
      "cell_type": "code",
      "metadata": {
        "colab": {
          "base_uri": "https://localhost:8080/"
        },
        "id": "A4W87xlaLuz_",
        "outputId": "df633899-8383-478f-c9e1-b4ea9e1d7eee"
      },
      "source": [
        "print(x%y)"
      ],
      "execution_count": 39,
      "outputs": [
        {
          "output_type": "stream",
          "name": "stdout",
          "text": [
            "-1\n"
          ]
        }
      ]
    },
    {
      "cell_type": "code",
      "metadata": {
        "colab": {
          "base_uri": "https://localhost:8080/"
        },
        "id": "xBVg8Qn_L4jd",
        "outputId": "052bef2f-ca03-4319-d354-7398ad82abe3"
      },
      "source": [
        "print( z%w-y/x*5+5)"
      ],
      "execution_count": 40,
      "outputs": [
        {
          "output_type": "stream",
          "name": "stdout",
          "text": [
            "16.5\n"
          ]
        }
      ]
    },
    {
      "cell_type": "code",
      "metadata": {
        "colab": {
          "base_uri": "https://localhost:8080/"
        },
        "id": "5sKc0AEsMLV2",
        "outputId": "d0e7339c-fa3c-4752-c587-24d46fb05018"
      },
      "source": [
        "print(9-x%(2+y))"
      ],
      "execution_count": 41,
      "outputs": [
        {
          "output_type": "stream",
          "name": "stdout",
          "text": [
            "9\n"
          ]
        }
      ]
    },
    {
      "cell_type": "code",
      "metadata": {
        "colab": {
          "base_uri": "https://localhost:8080/"
        },
        "id": "AUSrMGX_MPJK",
        "outputId": "9368197b-e12b-4a65-a3f9-fca0548270e4"
      },
      "source": [
        "print(z//w)"
      ],
      "execution_count": 42,
      "outputs": [
        {
          "output_type": "stream",
          "name": "stdout",
          "text": [
            "-2\n"
          ]
        }
      ]
    },
    {
      "cell_type": "code",
      "metadata": {
        "colab": {
          "base_uri": "https://localhost:8080/"
        },
        "id": "jCcUsfFmMUf5",
        "outputId": "8887267e-e18a-4888-ee29-6c48dec87c8b"
      },
      "source": [
        "print( (2+y)**2)"
      ],
      "execution_count": 43,
      "outputs": [
        {
          "output_type": "stream",
          "name": "stdout",
          "text": [
            "1\n"
          ]
        }
      ]
    },
    {
      "cell_type": "code",
      "metadata": {
        "colab": {
          "base_uri": "https://localhost:8080/"
        },
        "id": "32jS1qwDMbK2",
        "outputId": "f2092c83-ab6e-41f4-9dc4-acc0b96da1a7"
      },
      "source": [
        "print(w/x*2)"
      ],
      "execution_count": 44,
      "outputs": [
        {
          "output_type": "stream",
          "name": "stdout",
          "text": [
            "7.0\n"
          ]
        }
      ]
    }
  ]
}